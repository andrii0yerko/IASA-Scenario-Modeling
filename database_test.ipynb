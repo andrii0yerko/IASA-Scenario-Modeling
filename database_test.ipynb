{
 "cells": [
  {
   "cell_type": "code",
   "execution_count": 1,
   "metadata": {
    "collapsed": true
   },
   "outputs": [],
   "source": [
    "import pymongo\n",
    "\n",
    "# Connect to MongoDB\n",
    "client = pymongo.MongoClient(\n",
    "    \"mongodb://filmsearcher:Qgf3KWPTqlLW76Te7ghm2nZfknyVqSQLQtviuGjgD1l8nYQqcVfh0H9lHN7SWhNxeNtmaZoHmPxDACDb5RwYIQ==@filmsearcher.mongo.cosmos.azure.com:10255/?ssl=true&retrywrites=false&replicaSet=globaldb&maxIdleTimeMS=120000&appName=@filmsearcher@\")\n",
    "db = client[\"filmsClient\"]\n",
    "collection = db[\"films\"]"
   ]
  },
  {
   "cell_type": "code",
   "execution_count": 14,
   "outputs": [
    {
     "data": {
      "text/plain": "[{'_id': ObjectId('645805050c334d789ccd87cd'),\n  'adult': 'False',\n  'belongs_to_collection': nan,\n  'budget': '0',\n  'genres': \"[{'id': 10749, 'name': 'Romance'}, {'id': 18, 'name': 'Drama'}]\",\n  'homepage': nan,\n  'id': 161795,\n  'imdb_id': 'tt0119033',\n  'original_language': 'en',\n  'original_title': 'Déjà Vu',\n  'overview': 'L.A. shop owner Dana and Englishman Sean meet and fall in love at first sight, but Sean is married and Dana is to marry her business partner Alex.',\n  'popularity': 0.438882,\n  'poster_path': '/2BeYSPf181arGt4lWhRmpfBKFWm.jpg',\n  'production_companies': \"[{'name': 'Rainbow Film Company, The', 'id': 27584}, {'name': 'Revere Entertainment', 'id': 40955}, {'name': 'Jagtoria Films', 'id': 40956}]\",\n  'production_countries': \"[{'iso_3166_1': 'US', 'name': 'United States of America'}]\",\n  'release_date': '1998-04-22',\n  'revenue': 0.0,\n  'runtime': 117.0,\n  'spoken_languages': \"[{'iso_639_1': 'en', 'name': 'English'}]\",\n  'status': 'Released',\n  'tagline': 'Your future is set...',\n  'title': 'Déjà Vu',\n  'video': False,\n  'vote_average': 8.0,\n  'vote_count': 1.0,\n  'keywords': 'love american pin stranger ruby'},\n {'_id': ObjectId('645805050c334d789ccd8953'),\n  'adult': 'False',\n  'belongs_to_collection': nan,\n  'budget': '0',\n  'genres': \"[{'id': 35, 'name': 'Comedy'}, {'id': 10749, 'name': 'Romance'}]\",\n  'homepage': nan,\n  'id': 125123,\n  'imdb_id': 'tt0122906',\n  'original_language': 'en',\n  'original_title': 'Among Giants',\n  'overview': \"A manager hires Ray, off the books, to paint all the power towers in a 15-mile stretch of high-tension wires outside Sheffield. Ray's crew of men are friends, especially Ray with Steve, a young Romeo. Into the mix comes Gerry, an Australian with a spirit of adventure and mountain climbing skills. She wants a job, and against the others' advice, who don't want a woman on the job, Ray hires her. Then she and Ray fall in love. He asks her to marry him, gives her a ring. Steve's jealous; Ray's ex-wife complains that he spends on Gerry, not his own kids, and she predicts that Gerry won't stay around. Plus, there's pressure to finish the job fast. Economics, romance, and wanderlust spark the end.\",\n  'popularity': 0.381749,\n  'poster_path': '/ugTs1SDHUAsBuCpdrCDKTC2kHeK.jpg',\n  'production_companies': \"[{'name': 'Arts Council of England', 'id': 718}, {'name': 'British Broadcasting Corporation (BBC)', 'id': 3324}, {'name': 'British Screen Productions', 'id': 20777}]\",\n  'production_countries': \"[{'iso_3166_1': 'GB', 'name': 'United Kingdom'}]\",\n  'release_date': '1998-06-24',\n  'revenue': 0.0,\n  'runtime': 93.0,\n  'spoken_languages': \"[{'iso_639_1': 'en', 'name': 'English'}]\",\n  'status': 'Released',\n  'tagline': 'a love story from the writer of \"The Full Monty\".',\n  'title': 'Among Giants',\n  'video': False,\n  'vote_average': 4.5,\n  'vote_count': 2.0,\n  'keywords': 'yorkshire love friends'},\n {'_id': ObjectId('645805050c334d789ccdba8e'),\n  'adult': 'False',\n  'belongs_to_collection': nan,\n  'budget': '0',\n  'genres': \"[{'id': 18, 'name': 'Drama'}, {'id': 10749, 'name': 'Romance'}, {'id': 36, 'name': 'History'}]\",\n  'homepage': nan,\n  'id': 43327,\n  'imdb_id': 'tt0048791',\n  'original_language': 'en',\n  'original_title': 'The Virgin Queen',\n  'overview': 'Sir Walter Raleigh overcomes court intrigue to win favor with the Queen in order to get financing for a proposed voyage to the New World.',\n  'popularity': 0.728698,\n  'poster_path': '/bpZcwxMbuBazwhOZgTf66QCX9BD.jpg',\n  'production_companies': \"[{'name': 'Twentieth Century Fox Film Corporation', 'id': 306}]\",\n  'production_countries': \"[{'iso_3166_1': 'US', 'name': 'United States of America'}]\",\n  'release_date': '1955-07-22',\n  'revenue': 0.0,\n  'runtime': 92.0,\n  'spoken_languages': \"[{'iso_639_1': 'en', 'name': 'English'}]\",\n  'status': 'Released',\n  'tagline': nan,\n  'title': 'The Virgin Queen',\n  'video': False,\n  'vote_average': 7.8,\n  'vote_count': 4.0,\n  'keywords': 'queen elizabeth i sir walter raleigh'},\n {'_id': ObjectId('645805050c334d789ccdd72e'),\n  'adult': 'False',\n  'belongs_to_collection': nan,\n  'budget': '0',\n  'genres': \"[{'id': 35, 'name': 'Comedy'}, {'id': 18, 'name': 'Drama'}]\",\n  'homepage': nan,\n  'id': 5995,\n  'imdb_id': 'tt0342771',\n  'original_language': 'sv',\n  'original_title': 'Miffo',\n  'overview': 'Tobias is the new, idealistic priest in a suburb but he soon learns that his flock is quite uninterested in Christianity. However, he befriends Carolina, a chain smoking woman his age, wheelchair-bound since birth. It is opposites attract although their backgrounds are different.',\n  'popularity': 0.768593,\n  'poster_path': '/gtQRpMxQbLHbyXpy3RDyivNpFbj.jpg',\n  'production_companies': '[]',\n  'production_countries': \"[{'iso_3166_1': 'SE', 'name': 'Sweden'}]\",\n  'release_date': '2003-07-31',\n  'revenue': 0.0,\n  'runtime': 105.0,\n  'spoken_languages': \"[{'iso_639_1': 'sv', 'name': 'svenska'}]\",\n  'status': 'Released',\n  'tagline': nan,\n  'title': 'Miffo',\n  'video': False,\n  'vote_average': 4.0,\n  'vote_count': 5.0,\n  'keywords': 'sweden new love'}]"
     },
     "execution_count": 14,
     "metadata": {},
     "output_type": "execute_result"
    }
   ],
   "source": [
    "from bson import ObjectId\n",
    "\n",
    "indexes = [\"645805050c334d789ccd8953\", \"645805050c334d789ccdba8e\", \"645805050c334d789ccdd72e\", \"645805050c334d789ccdd72e\", \"645805050c334d789ccd87cd\"]\n",
    "list(collection.find({'_id': {'$in': list(map(lambda x: ObjectId(x), indexes))}}))"
   ],
   "metadata": {
    "collapsed": false,
    "pycharm": {
     "name": "#%%\n"
    }
   }
  }
 ],
 "metadata": {
  "kernelspec": {
   "display_name": "Python 3",
   "language": "python",
   "name": "python3"
  },
  "language_info": {
   "codemirror_mode": {
    "name": "ipython",
    "version": 2
   },
   "file_extension": ".py",
   "mimetype": "text/x-python",
   "name": "python",
   "nbconvert_exporter": "python",
   "pygments_lexer": "ipython2",
   "version": "2.7.6"
  }
 },
 "nbformat": 4,
 "nbformat_minor": 0
}