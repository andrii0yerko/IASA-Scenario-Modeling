{
 "cells": [
  {
   "cell_type": "code",
   "execution_count": 1,
   "metadata": {
    "collapsed": true
   },
   "outputs": [],
   "source": [
    "import pymongo\n",
    "\n",
    "# Connect to MongoDB\n",
    "client = pymongo.MongoClient(\n",
    "    \"mongodb://filmsearcher:Qgf3KWPTqlLW76Te7ghm2nZfknyVqSQLQtviuGjgD1l8nYQqcVfh0H9lHN7SWhNxeNtmaZoHmPxDACDb5RwYIQ==@filmsearcher.mongo.cosmos.azure.com:10255/?ssl=true&retrywrites=false&replicaSet=globaldb&maxIdleTimeMS=120000&appName=@filmsearcher@\")\n",
    "db = client[\"filmsClient\"]\n",
    "collection = db[\"films\"]"
   ]
  },
  {
   "cell_type": "code",
   "execution_count": 16,
   "outputs": [],
   "source": [
    "import pandas as pd\n",
    "from bson import ObjectId\n",
    "\n",
    "indexes = [\"645805050c334d789ccd8953\", \"645805050c334d789ccdba8e\", \"645805050c334d789ccdd72e\", \"645805050c334d789ccdd72e\", \"645805050c334d789ccd87cd\"]\n",
    "df = pd.DataFrame(list(collection.find({'_id': {'$in': list(map(lambda x: ObjectId(x), indexes))}})))"
   ],
   "metadata": {
    "collapsed": false,
    "pycharm": {
     "name": "#%%\n"
    }
   }
  },
  {
   "cell_type": "code",
   "execution_count": 18,
   "outputs": [],
   "source": [
    "df['relevant'] = None"
   ],
   "metadata": {
    "collapsed": false,
    "pycharm": {
     "name": "#%%\n"
    }
   }
  },
  {
   "cell_type": "code",
   "execution_count": 19,
   "outputs": [
    {
     "data": {
      "text/plain": "                        _id  adult  belongs_to_collection budget   \n0  645805050c334d789ccd87cd  False                    NaN      0  \\\n1  645805050c334d789ccd8953  False                    NaN      0   \n2  645805050c334d789ccdba8e  False                    NaN      0   \n3  645805050c334d789ccdd72e  False                    NaN      0   \n\n                                              genres  homepage      id   \n0  [{'id': 10749, 'name': 'Romance'}, {'id': 18, ...       NaN  161795  \\\n1  [{'id': 35, 'name': 'Comedy'}, {'id': 10749, '...       NaN  125123   \n2  [{'id': 18, 'name': 'Drama'}, {'id': 10749, 'n...       NaN   43327   \n3  [{'id': 35, 'name': 'Comedy'}, {'id': 18, 'nam...       NaN    5995   \n\n     imdb_id original_language    original_title  ... runtime   \n0  tt0119033                en           Déjà Vu  ...   117.0  \\\n1  tt0122906                en      Among Giants  ...    93.0   \n2  tt0048791                en  The Virgin Queen  ...    92.0   \n3  tt0342771                sv             Miffo  ...   105.0   \n\n                           spoken_languages    status   \n0  [{'iso_639_1': 'en', 'name': 'English'}]  Released  \\\n1  [{'iso_639_1': 'en', 'name': 'English'}]  Released   \n2  [{'iso_639_1': 'en', 'name': 'English'}]  Released   \n3  [{'iso_639_1': 'sv', 'name': 'svenska'}]  Released   \n\n                                             tagline             title  video   \n0                              Your future is set...           Déjà Vu  False  \\\n1  a love story from the writer of \"The Full Monty\".      Among Giants  False   \n2                                                NaN  The Virgin Queen  False   \n3                                                NaN             Miffo  False   \n\n   vote_average  vote_count                              keywords relevant  \n0           8.0         1.0       love american pin stranger ruby     None  \n1           4.5         2.0                yorkshire love friends     None  \n2           7.8         4.0  queen elizabeth i sir walter raleigh     None  \n3           4.0         5.0                       sweden new love     None  \n\n[4 rows x 27 columns]",
      "text/html": "<div>\n<style scoped>\n    .dataframe tbody tr th:only-of-type {\n        vertical-align: middle;\n    }\n\n    .dataframe tbody tr th {\n        vertical-align: top;\n    }\n\n    .dataframe thead th {\n        text-align: right;\n    }\n</style>\n<table border=\"1\" class=\"dataframe\">\n  <thead>\n    <tr style=\"text-align: right;\">\n      <th></th>\n      <th>_id</th>\n      <th>adult</th>\n      <th>belongs_to_collection</th>\n      <th>budget</th>\n      <th>genres</th>\n      <th>homepage</th>\n      <th>id</th>\n      <th>imdb_id</th>\n      <th>original_language</th>\n      <th>original_title</th>\n      <th>...</th>\n      <th>runtime</th>\n      <th>spoken_languages</th>\n      <th>status</th>\n      <th>tagline</th>\n      <th>title</th>\n      <th>video</th>\n      <th>vote_average</th>\n      <th>vote_count</th>\n      <th>keywords</th>\n      <th>relevant</th>\n    </tr>\n  </thead>\n  <tbody>\n    <tr>\n      <th>0</th>\n      <td>645805050c334d789ccd87cd</td>\n      <td>False</td>\n      <td>NaN</td>\n      <td>0</td>\n      <td>[{'id': 10749, 'name': 'Romance'}, {'id': 18, ...</td>\n      <td>NaN</td>\n      <td>161795</td>\n      <td>tt0119033</td>\n      <td>en</td>\n      <td>Déjà Vu</td>\n      <td>...</td>\n      <td>117.0</td>\n      <td>[{'iso_639_1': 'en', 'name': 'English'}]</td>\n      <td>Released</td>\n      <td>Your future is set...</td>\n      <td>Déjà Vu</td>\n      <td>False</td>\n      <td>8.0</td>\n      <td>1.0</td>\n      <td>love american pin stranger ruby</td>\n      <td>None</td>\n    </tr>\n    <tr>\n      <th>1</th>\n      <td>645805050c334d789ccd8953</td>\n      <td>False</td>\n      <td>NaN</td>\n      <td>0</td>\n      <td>[{'id': 35, 'name': 'Comedy'}, {'id': 10749, '...</td>\n      <td>NaN</td>\n      <td>125123</td>\n      <td>tt0122906</td>\n      <td>en</td>\n      <td>Among Giants</td>\n      <td>...</td>\n      <td>93.0</td>\n      <td>[{'iso_639_1': 'en', 'name': 'English'}]</td>\n      <td>Released</td>\n      <td>a love story from the writer of \"The Full Monty\".</td>\n      <td>Among Giants</td>\n      <td>False</td>\n      <td>4.5</td>\n      <td>2.0</td>\n      <td>yorkshire love friends</td>\n      <td>None</td>\n    </tr>\n    <tr>\n      <th>2</th>\n      <td>645805050c334d789ccdba8e</td>\n      <td>False</td>\n      <td>NaN</td>\n      <td>0</td>\n      <td>[{'id': 18, 'name': 'Drama'}, {'id': 10749, 'n...</td>\n      <td>NaN</td>\n      <td>43327</td>\n      <td>tt0048791</td>\n      <td>en</td>\n      <td>The Virgin Queen</td>\n      <td>...</td>\n      <td>92.0</td>\n      <td>[{'iso_639_1': 'en', 'name': 'English'}]</td>\n      <td>Released</td>\n      <td>NaN</td>\n      <td>The Virgin Queen</td>\n      <td>False</td>\n      <td>7.8</td>\n      <td>4.0</td>\n      <td>queen elizabeth i sir walter raleigh</td>\n      <td>None</td>\n    </tr>\n    <tr>\n      <th>3</th>\n      <td>645805050c334d789ccdd72e</td>\n      <td>False</td>\n      <td>NaN</td>\n      <td>0</td>\n      <td>[{'id': 35, 'name': 'Comedy'}, {'id': 18, 'nam...</td>\n      <td>NaN</td>\n      <td>5995</td>\n      <td>tt0342771</td>\n      <td>sv</td>\n      <td>Miffo</td>\n      <td>...</td>\n      <td>105.0</td>\n      <td>[{'iso_639_1': 'sv', 'name': 'svenska'}]</td>\n      <td>Released</td>\n      <td>NaN</td>\n      <td>Miffo</td>\n      <td>False</td>\n      <td>4.0</td>\n      <td>5.0</td>\n      <td>sweden new love</td>\n      <td>None</td>\n    </tr>\n  </tbody>\n</table>\n<p>4 rows × 27 columns</p>\n</div>"
     },
     "execution_count": 19,
     "metadata": {},
     "output_type": "execute_result"
    }
   ],
   "source": [
    "df"
   ],
   "metadata": {
    "collapsed": false,
    "pycharm": {
     "name": "#%%\n"
    }
   }
  }
 ],
 "metadata": {
  "kernelspec": {
   "display_name": "Python 3",
   "language": "python",
   "name": "python3"
  },
  "language_info": {
   "codemirror_mode": {
    "name": "ipython",
    "version": 2
   },
   "file_extension": ".py",
   "mimetype": "text/x-python",
   "name": "python",
   "nbconvert_exporter": "python",
   "pygments_lexer": "ipython2",
   "version": "2.7.6"
  }
 },
 "nbformat": 4,
 "nbformat_minor": 0
}