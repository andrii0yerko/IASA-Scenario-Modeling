{
 "cells": [
  {
   "cell_type": "code",
   "execution_count": 1,
   "metadata": {
    "collapsed": true
   },
   "outputs": [
    {
     "name": "stderr",
     "output_type": "stream",
     "text": [
      "C:\\Users\\ALEX\\AppData\\Local\\Temp\\ipykernel_8000\\1524520967.py:10: DtypeWarning: Columns (10) have mixed types. Specify dtype option on import or set low_memory=False.\n",
      "  df_meta = pd.read_csv(PATH / \"movies_metadata.csv\")\n"
     ]
    }
   ],
   "source": [
    "import yaml\n",
    "import pandas as pd\n",
    "from pathlib import Path\n",
    "\n",
    "PATH = Path(\"data\")\n",
    "\n",
    "df_keywords = pd.read_csv(PATH / \"keywords.csv\")\n",
    "df_keywords[\"keywords\"] = df_keywords[\"keywords\"].apply(yaml.safe_load)\n",
    "\n",
    "df_meta = pd.read_csv(PATH / \"movies_metadata.csv\")\n",
    "df_meta = df_meta[df_meta[\"id\"].str.isnumeric()]\n",
    "df_meta[\"id\"] = df_meta[\"id\"].astype(\"int\")\n",
    "\n",
    "df = df_meta.merge(df_keywords, on=\"id\", how=\"left\")\n",
    "df = df.dropna(subset=\"keywords\").copy()\n",
    "df[\"keywords\"] = df[\"keywords\"].apply(lambda x: \" \".join(x[\"name\"] for x in x))"
   ]
  },
  {
   "cell_type": "code",
   "execution_count": 2,
   "outputs": [
    {
     "data": {
      "text/plain": "       adult                              belongs_to_collection    budget   \n0      False  {'id': 10194, 'name': 'Toy Story Collection', ...  30000000  \\\n1      False                                                NaN  65000000   \n2      False  {'id': 119050, 'name': 'Grumpy Old Men Collect...         0   \n3      False                                                NaN  16000000   \n4      False  {'id': 96871, 'name': 'Father of the Bride Col...         0   \n...      ...                                                ...       ...   \n46478  False                                                NaN         0   \n46479  False                                                NaN         0   \n46480  False                                                NaN         0   \n46481  False                                                NaN         0   \n46482  False                                                NaN         0   \n\n                                                  genres   \n0      [{'id': 16, 'name': 'Animation'}, {'id': 35, '...  \\\n1      [{'id': 12, 'name': 'Adventure'}, {'id': 14, '...   \n2      [{'id': 10749, 'name': 'Romance'}, {'id': 35, ...   \n3      [{'id': 35, 'name': 'Comedy'}, {'id': 18, 'nam...   \n4                         [{'id': 35, 'name': 'Comedy'}]   \n...                                                  ...   \n46478  [{'id': 18, 'name': 'Drama'}, {'id': 10751, 'n...   \n46479                      [{'id': 18, 'name': 'Drama'}]   \n46480  [{'id': 28, 'name': 'Action'}, {'id': 18, 'nam...   \n46481                                                 []   \n46482                                                 []   \n\n                                   homepage      id    imdb_id   \n0      http://toystory.disney.com/toy-story     862  tt0114709  \\\n1                                       NaN    8844  tt0113497   \n2                                       NaN   15602  tt0113228   \n3                                       NaN   31357  tt0114885   \n4                                       NaN   11862  tt0113041   \n...                                     ...     ...        ...   \n46478  http://www.imdb.com/title/tt6209470/  439050  tt6209470   \n46479                                   NaN  111109  tt2028550   \n46480                                   NaN   67758  tt0303758   \n46481                                   NaN  227506  tt0008536   \n46482                                   NaN  461257  tt6980792   \n\n      original_language               original_title   \n0                    en                    Toy Story  \\\n1                    en                      Jumanji   \n2                    en             Grumpier Old Men   \n3                    en            Waiting to Exhale   \n4                    en  Father of the Bride Part II   \n...                 ...                          ...   \n46478                fa                      رگ خواب   \n46479                tl          Siglo ng Pagluluwal   \n46480                en                     Betrayal   \n46481                en          Satana likuyushchiy   \n46482                en                     Queerama   \n\n                                                overview  ...      revenue   \n0      Led by Woody, Andy's toys live happily in his ...  ...  373554033.0  \\\n1      When siblings Judy and Peter discover an encha...  ...  262797249.0   \n2      A family wedding reignites the ancient feud be...  ...          0.0   \n3      Cheated on, mistreated and stepped on, the wom...  ...   81452156.0   \n4      Just when George Banks has recovered from his ...  ...   76578911.0   \n...                                                  ...  ...          ...   \n46478        Rising and falling between a man and woman.  ...          0.0   \n46479  An artist struggles to finish his work while a...  ...          0.0   \n46480  When one of her hits goes wrong, a professiona...  ...          0.0   \n46481  In a small town live two brothers, one a minis...  ...          0.0   \n46482  50 years after decriminalisation of homosexual...  ...          0.0   \n\n      runtime                                   spoken_languages    status   \n0        81.0           [{'iso_639_1': 'en', 'name': 'English'}]  Released  \\\n1       104.0  [{'iso_639_1': 'en', 'name': 'English'}, {'iso...  Released   \n2       101.0           [{'iso_639_1': 'en', 'name': 'English'}]  Released   \n3       127.0           [{'iso_639_1': 'en', 'name': 'English'}]  Released   \n4       106.0           [{'iso_639_1': 'en', 'name': 'English'}]  Released   \n...       ...                                                ...       ...   \n46478    90.0             [{'iso_639_1': 'fa', 'name': 'فارسی'}]  Released   \n46479   360.0                  [{'iso_639_1': 'tl', 'name': ''}]  Released   \n46480    90.0           [{'iso_639_1': 'en', 'name': 'English'}]  Released   \n46481    87.0                                                 []  Released   \n46482    75.0           [{'iso_639_1': 'en', 'name': 'English'}]  Released   \n\n                                                 tagline   \n0                                                    NaN  \\\n1              Roll the dice and unleash the excitement!   \n2      Still Yelling. Still Fighting. Still Ready for...   \n3      Friends are the people who let you be yourself...   \n4      Just When His World Is Back To Normal... He's ...   \n...                                                  ...   \n46478         Rising and falling between a man and woman   \n46479                                                NaN   \n46480                             A deadly game of wits.   \n46481                                                NaN   \n46482                                                NaN   \n\n                             title  video vote_average vote_count   \n0                        Toy Story  False          7.7     5415.0  \\\n1                          Jumanji  False          6.9     2413.0   \n2                 Grumpier Old Men  False          6.5       92.0   \n3                Waiting to Exhale  False          6.1       34.0   \n4      Father of the Bride Part II  False          5.7      173.0   \n...                            ...    ...          ...        ...   \n46478                       Subdue  False          4.0        1.0   \n46479          Century of Birthing  False          9.0        3.0   \n46480                     Betrayal  False          3.8        6.0   \n46481             Satan Triumphant  False          0.0        0.0   \n46482                     Queerama  False          0.0        0.0   \n\n                                                keywords  \n0      jealousy toy boy friendship friends rivalry bo...  \n1      board game disappearance based on children's b...  \n2       fishing best friend duringcreditsstinger old men  \n3      based on novel interracial relationship single...  \n4      baby midlife crisis confidence aging daughter ...  \n...                                                  ...  \n46478                                        tragic love  \n46479                                  artist play pinoy  \n46480                                                     \n46481                                                     \n46482                                                     \n\n[46482 rows x 25 columns]",
      "text/html": "<div>\n<style scoped>\n    .dataframe tbody tr th:only-of-type {\n        vertical-align: middle;\n    }\n\n    .dataframe tbody tr th {\n        vertical-align: top;\n    }\n\n    .dataframe thead th {\n        text-align: right;\n    }\n</style>\n<table border=\"1\" class=\"dataframe\">\n  <thead>\n    <tr style=\"text-align: right;\">\n      <th></th>\n      <th>adult</th>\n      <th>belongs_to_collection</th>\n      <th>budget</th>\n      <th>genres</th>\n      <th>homepage</th>\n      <th>id</th>\n      <th>imdb_id</th>\n      <th>original_language</th>\n      <th>original_title</th>\n      <th>overview</th>\n      <th>...</th>\n      <th>revenue</th>\n      <th>runtime</th>\n      <th>spoken_languages</th>\n      <th>status</th>\n      <th>tagline</th>\n      <th>title</th>\n      <th>video</th>\n      <th>vote_average</th>\n      <th>vote_count</th>\n      <th>keywords</th>\n    </tr>\n  </thead>\n  <tbody>\n    <tr>\n      <th>0</th>\n      <td>False</td>\n      <td>{'id': 10194, 'name': 'Toy Story Collection', ...</td>\n      <td>30000000</td>\n      <td>[{'id': 16, 'name': 'Animation'}, {'id': 35, '...</td>\n      <td>http://toystory.disney.com/toy-story</td>\n      <td>862</td>\n      <td>tt0114709</td>\n      <td>en</td>\n      <td>Toy Story</td>\n      <td>Led by Woody, Andy's toys live happily in his ...</td>\n      <td>...</td>\n      <td>373554033.0</td>\n      <td>81.0</td>\n      <td>[{'iso_639_1': 'en', 'name': 'English'}]</td>\n      <td>Released</td>\n      <td>NaN</td>\n      <td>Toy Story</td>\n      <td>False</td>\n      <td>7.7</td>\n      <td>5415.0</td>\n      <td>jealousy toy boy friendship friends rivalry bo...</td>\n    </tr>\n    <tr>\n      <th>1</th>\n      <td>False</td>\n      <td>NaN</td>\n      <td>65000000</td>\n      <td>[{'id': 12, 'name': 'Adventure'}, {'id': 14, '...</td>\n      <td>NaN</td>\n      <td>8844</td>\n      <td>tt0113497</td>\n      <td>en</td>\n      <td>Jumanji</td>\n      <td>When siblings Judy and Peter discover an encha...</td>\n      <td>...</td>\n      <td>262797249.0</td>\n      <td>104.0</td>\n      <td>[{'iso_639_1': 'en', 'name': 'English'}, {'iso...</td>\n      <td>Released</td>\n      <td>Roll the dice and unleash the excitement!</td>\n      <td>Jumanji</td>\n      <td>False</td>\n      <td>6.9</td>\n      <td>2413.0</td>\n      <td>board game disappearance based on children's b...</td>\n    </tr>\n    <tr>\n      <th>2</th>\n      <td>False</td>\n      <td>{'id': 119050, 'name': 'Grumpy Old Men Collect...</td>\n      <td>0</td>\n      <td>[{'id': 10749, 'name': 'Romance'}, {'id': 35, ...</td>\n      <td>NaN</td>\n      <td>15602</td>\n      <td>tt0113228</td>\n      <td>en</td>\n      <td>Grumpier Old Men</td>\n      <td>A family wedding reignites the ancient feud be...</td>\n      <td>...</td>\n      <td>0.0</td>\n      <td>101.0</td>\n      <td>[{'iso_639_1': 'en', 'name': 'English'}]</td>\n      <td>Released</td>\n      <td>Still Yelling. Still Fighting. Still Ready for...</td>\n      <td>Grumpier Old Men</td>\n      <td>False</td>\n      <td>6.5</td>\n      <td>92.0</td>\n      <td>fishing best friend duringcreditsstinger old men</td>\n    </tr>\n    <tr>\n      <th>3</th>\n      <td>False</td>\n      <td>NaN</td>\n      <td>16000000</td>\n      <td>[{'id': 35, 'name': 'Comedy'}, {'id': 18, 'nam...</td>\n      <td>NaN</td>\n      <td>31357</td>\n      <td>tt0114885</td>\n      <td>en</td>\n      <td>Waiting to Exhale</td>\n      <td>Cheated on, mistreated and stepped on, the wom...</td>\n      <td>...</td>\n      <td>81452156.0</td>\n      <td>127.0</td>\n      <td>[{'iso_639_1': 'en', 'name': 'English'}]</td>\n      <td>Released</td>\n      <td>Friends are the people who let you be yourself...</td>\n      <td>Waiting to Exhale</td>\n      <td>False</td>\n      <td>6.1</td>\n      <td>34.0</td>\n      <td>based on novel interracial relationship single...</td>\n    </tr>\n    <tr>\n      <th>4</th>\n      <td>False</td>\n      <td>{'id': 96871, 'name': 'Father of the Bride Col...</td>\n      <td>0</td>\n      <td>[{'id': 35, 'name': 'Comedy'}]</td>\n      <td>NaN</td>\n      <td>11862</td>\n      <td>tt0113041</td>\n      <td>en</td>\n      <td>Father of the Bride Part II</td>\n      <td>Just when George Banks has recovered from his ...</td>\n      <td>...</td>\n      <td>76578911.0</td>\n      <td>106.0</td>\n      <td>[{'iso_639_1': 'en', 'name': 'English'}]</td>\n      <td>Released</td>\n      <td>Just When His World Is Back To Normal... He's ...</td>\n      <td>Father of the Bride Part II</td>\n      <td>False</td>\n      <td>5.7</td>\n      <td>173.0</td>\n      <td>baby midlife crisis confidence aging daughter ...</td>\n    </tr>\n    <tr>\n      <th>...</th>\n      <td>...</td>\n      <td>...</td>\n      <td>...</td>\n      <td>...</td>\n      <td>...</td>\n      <td>...</td>\n      <td>...</td>\n      <td>...</td>\n      <td>...</td>\n      <td>...</td>\n      <td>...</td>\n      <td>...</td>\n      <td>...</td>\n      <td>...</td>\n      <td>...</td>\n      <td>...</td>\n      <td>...</td>\n      <td>...</td>\n      <td>...</td>\n      <td>...</td>\n      <td>...</td>\n    </tr>\n    <tr>\n      <th>46478</th>\n      <td>False</td>\n      <td>NaN</td>\n      <td>0</td>\n      <td>[{'id': 18, 'name': 'Drama'}, {'id': 10751, 'n...</td>\n      <td>http://www.imdb.com/title/tt6209470/</td>\n      <td>439050</td>\n      <td>tt6209470</td>\n      <td>fa</td>\n      <td>رگ خواب</td>\n      <td>Rising and falling between a man and woman.</td>\n      <td>...</td>\n      <td>0.0</td>\n      <td>90.0</td>\n      <td>[{'iso_639_1': 'fa', 'name': 'فارسی'}]</td>\n      <td>Released</td>\n      <td>Rising and falling between a man and woman</td>\n      <td>Subdue</td>\n      <td>False</td>\n      <td>4.0</td>\n      <td>1.0</td>\n      <td>tragic love</td>\n    </tr>\n    <tr>\n      <th>46479</th>\n      <td>False</td>\n      <td>NaN</td>\n      <td>0</td>\n      <td>[{'id': 18, 'name': 'Drama'}]</td>\n      <td>NaN</td>\n      <td>111109</td>\n      <td>tt2028550</td>\n      <td>tl</td>\n      <td>Siglo ng Pagluluwal</td>\n      <td>An artist struggles to finish his work while a...</td>\n      <td>...</td>\n      <td>0.0</td>\n      <td>360.0</td>\n      <td>[{'iso_639_1': 'tl', 'name': ''}]</td>\n      <td>Released</td>\n      <td>NaN</td>\n      <td>Century of Birthing</td>\n      <td>False</td>\n      <td>9.0</td>\n      <td>3.0</td>\n      <td>artist play pinoy</td>\n    </tr>\n    <tr>\n      <th>46480</th>\n      <td>False</td>\n      <td>NaN</td>\n      <td>0</td>\n      <td>[{'id': 28, 'name': 'Action'}, {'id': 18, 'nam...</td>\n      <td>NaN</td>\n      <td>67758</td>\n      <td>tt0303758</td>\n      <td>en</td>\n      <td>Betrayal</td>\n      <td>When one of her hits goes wrong, a professiona...</td>\n      <td>...</td>\n      <td>0.0</td>\n      <td>90.0</td>\n      <td>[{'iso_639_1': 'en', 'name': 'English'}]</td>\n      <td>Released</td>\n      <td>A deadly game of wits.</td>\n      <td>Betrayal</td>\n      <td>False</td>\n      <td>3.8</td>\n      <td>6.0</td>\n      <td></td>\n    </tr>\n    <tr>\n      <th>46481</th>\n      <td>False</td>\n      <td>NaN</td>\n      <td>0</td>\n      <td>[]</td>\n      <td>NaN</td>\n      <td>227506</td>\n      <td>tt0008536</td>\n      <td>en</td>\n      <td>Satana likuyushchiy</td>\n      <td>In a small town live two brothers, one a minis...</td>\n      <td>...</td>\n      <td>0.0</td>\n      <td>87.0</td>\n      <td>[]</td>\n      <td>Released</td>\n      <td>NaN</td>\n      <td>Satan Triumphant</td>\n      <td>False</td>\n      <td>0.0</td>\n      <td>0.0</td>\n      <td></td>\n    </tr>\n    <tr>\n      <th>46482</th>\n      <td>False</td>\n      <td>NaN</td>\n      <td>0</td>\n      <td>[]</td>\n      <td>NaN</td>\n      <td>461257</td>\n      <td>tt6980792</td>\n      <td>en</td>\n      <td>Queerama</td>\n      <td>50 years after decriminalisation of homosexual...</td>\n      <td>...</td>\n      <td>0.0</td>\n      <td>75.0</td>\n      <td>[{'iso_639_1': 'en', 'name': 'English'}]</td>\n      <td>Released</td>\n      <td>NaN</td>\n      <td>Queerama</td>\n      <td>False</td>\n      <td>0.0</td>\n      <td>0.0</td>\n      <td></td>\n    </tr>\n  </tbody>\n</table>\n<p>46482 rows × 25 columns</p>\n</div>"
     },
     "execution_count": 2,
     "metadata": {},
     "output_type": "execute_result"
    }
   ],
   "source": [
    "df"
   ],
   "metadata": {
    "collapsed": false,
    "pycharm": {
     "name": "#%%\n"
    }
   }
  },
  {
   "cell_type": "code",
   "execution_count": 3,
   "outputs": [
    {
     "data": {
      "text/plain": "<pymongo.results.InsertManyResult at 0x1d19d01fc40>"
     },
     "execution_count": 3,
     "metadata": {},
     "output_type": "execute_result"
    }
   ],
   "source": [
    "import pymongo\n",
    "\n",
    "# Connect to MongoDB\n",
    "client = pymongo.MongoClient(\n",
    "    \"mongodb://streamlit:8z1jvVFHVuH3pipFJOUX87sNa10nSKIpSYyg2H1FHqRKVNGyvO4HQoaidQEyKj3zK87NWqsX7YZaACDbzZT85w==@streamlit.mongo.cosmos.azure.com:10255/?ssl=true&retrywrites=false&replicaSet=globaldb&maxIdleTimeMS=120000&appName=@streamlit@\")\n",
    "db = client[\"filmsClient\"]\n",
    "collection = db[\"films\"]\n",
    "\n",
    "# Convert the DataFrame to a dictionary\n",
    "data = df.to_dict(orient=\"records\")\n",
    "\n",
    "# Insert the data into MongoDB\n",
    "collection.insert_many(data)"
   ],
   "metadata": {
    "collapsed": false,
    "pycharm": {
     "name": "#%%\n"
    }
   }
  }
 ],
 "metadata": {
  "kernelspec": {
   "display_name": "Python 3",
   "language": "python",
   "name": "python3"
  },
  "language_info": {
   "codemirror_mode": {
    "name": "ipython",
    "version": 2
   },
   "file_extension": ".py",
   "mimetype": "text/x-python",
   "name": "python",
   "nbconvert_exporter": "python",
   "pygments_lexer": "ipython2",
   "version": "2.7.6"
  }
 },
 "nbformat": 4,
 "nbformat_minor": 0
}