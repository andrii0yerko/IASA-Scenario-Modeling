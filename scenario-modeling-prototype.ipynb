{
 "metadata": {
  "kernelspec": {
   "language": "python",
   "display_name": "Python 3",
   "name": "python3"
  },
  "language_info": {
   "name": "python",
   "version": "3.10.10",
   "mimetype": "text/x-python",
   "codemirror_mode": {
    "name": "ipython",
    "version": 3
   },
   "pygments_lexer": "ipython3",
   "nbconvert_exporter": "python",
   "file_extension": ".py"
  }
 },
 "nbformat_minor": 4,
 "nbformat": 4,
 "cells": [
  {
   "cell_type": "code",
   "source": [
    "import logging\n",
    "from collections import namedtuple\n",
    "from pathlib import Path\n",
    "\n",
    "import yaml\n",
    "import numpy as np\n",
    "import pandas as pd\n",
    "\n",
    "from sklearn.metrics import pairwise_distances\n",
    "\n",
    "logging.basicConfig(level=logging.DEBUG, format=\"%(asctime)s - %(levelname)s - %(message)s\", force=True)\n",
    "\n",
    "PATH = Path(\"data\")"
   ],
   "metadata": {
    "trusted": true
   },
   "execution_count": 1,
   "outputs": []
  },
  {
   "cell_type": "markdown",
   "source": [
    "## Load Data"
   ],
   "metadata": {}
  },
  {
   "cell_type": "code",
   "source": [
    "df_keywords = pd.read_csv(PATH / \"keywords.csv\")\n",
    "df_keywords[\"keywords\"] = df_keywords[\"keywords\"].apply(yaml.safe_load)\n",
    "\n",
    "df_meta = pd.read_csv(PATH / \"movies_metadata.csv\")\n",
    "df_meta = df_meta[df_meta[\"id\"].str.isnumeric()]\n",
    "df_meta[\"id\"] = df_meta[\"id\"].astype(\"int\")"
   ],
   "metadata": {
    "trusted": true
   },
   "execution_count": 2,
   "outputs": [
    {
     "name": "stderr",
     "output_type": "stream",
     "text": [
      "C:\\Users\\ALEX\\AppData\\Local\\Temp\\ipykernel_1208\\826471669.py:4: DtypeWarning: Columns (10) have mixed types. Specify dtype option on import or set low_memory=False.\n",
      "  df_meta = pd.read_csv(PATH / \"movies_metadata.csv\")\n"
     ]
    }
   ]
  },
  {
   "cell_type": "code",
   "source": [
    "df = df_meta.merge(df_keywords, on=\"id\", how=\"left\")\n",
    "df = df.dropna(subset=\"keywords\").copy()\n",
    "df[\"keywords\"] = df[\"keywords\"].apply(lambda x: \" \".join(x[\"name\"] for x in x))"
   ],
   "metadata": {
    "trusted": true
   },
   "execution_count": 3,
   "outputs": []
  },
  {
   "cell_type": "code",
   "source": [
    "x = df.iloc[4]\n",
    "x[\"original_title\"], x[\"overview\"], x[\"keywords\"]"
   ],
   "metadata": {
    "trusted": true
   },
   "execution_count": 4,
   "outputs": [
    {
     "data": {
      "text/plain": "('Father of the Bride Part II',\n \"Just when George Banks has recovered from his daughter's wedding, he receives the news that she's pregnant ... and that George's wife, Nina, is expecting too. He was planning on selling their home, but that's a plan that -- like George -- will have to change with the arrival of both a grandchild and a kid of his own.\",\n 'baby midlife crisis confidence aging daughter mother daughter relationship pregnancy contraception gynecologist')"
     },
     "execution_count": 4,
     "metadata": {},
     "output_type": "execute_result"
    }
   ]
  },
  {
   "cell_type": "markdown",
   "source": [
    "## Prototyping"
   ],
   "metadata": {}
  },
  {
   "cell_type": "code",
   "source": [
    "SearchResult = namedtuple(\"SearchResult\", \"result,embedding\")\n",
    "\n",
    "\n",
    "class EmbeddingSearch:\n",
    "    def __init__(self, vectors: np.ndarray, embedder: callable):\n",
    "        self._vectors = vectors\n",
    "        self.embedder = embedder\n",
    "\n",
    "    @classmethod\n",
    "    def from_texts(cls, inputs: list[str], embedder: callable):\n",
    "        _vectors = cls._create_db(inputs, embedder)\n",
    "        return cls(_vectors, embedder)\n",
    "\n",
    "    @staticmethod\n",
    "    def _create_db(inputs, embedder):\n",
    "        logging.debug(\"creating db\")\n",
    "        result = []\n",
    "        total = len(inputs)\n",
    "        step = total // 100\n",
    "        for i, text in enumerate(inputs):\n",
    "            vec = embedder(text)\n",
    "            result.append(vec)\n",
    "            if i % step == 0:\n",
    "                logging.debug(\"%s/%s\", i, total)\n",
    "        return result\n",
    "\n",
    "    def from_pickle(self, path):\n",
    "        pass\n",
    "\n",
    "    def get_closest(self, query: str, n: int = 1000) -> list[dict]:\n",
    "        query_vec = self.embedder(query)\n",
    "\n",
    "        dist = pairwise_distances(query_vec[None, ...], self._vectors, \"cosine\")\n",
    "        dist = dist.ravel()\n",
    "        idx = np.argsort(dist)[:n]\n",
    "        result = [{\"id\": _id, \"distance\": dist} for _id, dist in zip(idx, dist[idx])]\n",
    "\n",
    "        return SearchResult(result, query_vec)\n",
    "\n",
    "    def get_rerank(self, labeling: list[dict]):\n",
    "        pass"
   ],
   "metadata": {
    "trusted": true
   },
   "execution_count": 5,
   "outputs": []
  },
  {
   "cell_type": "code",
   "source": [
    "import fasttext\n",
    "\n",
    "# Load pre-trained model\n",
    "model_path = \"fasttextmodel/cc.en.300.bin\"\n",
    "model = fasttext.load_model(model_path)"
   ],
   "metadata": {
    "trusted": true
   },
   "execution_count": 6,
   "outputs": [
    {
     "name": "stderr",
     "output_type": "stream",
     "text": [
      "Warning : `load_model` does not return WordVectorModel or SupervisedModel any more, but a `FastText` object which is very similar.\n"
     ]
    }
   ]
  },
  {
   "cell_type": "code",
   "execution_count": 7,
   "outputs": [
    {
     "data": {
      "text/plain": "<module 'fasttext' from 'd:\\\\pytorchprojects\\\\filmsearcher\\\\venv\\\\Lib\\\\site-packages\\\\fasttext\\\\__init__.py'>"
     },
     "execution_count": 7,
     "metadata": {},
     "output_type": "execute_result"
    }
   ],
   "source": [
    "fasttext"
   ],
   "metadata": {
    "collapsed": false,
    "pycharm": {
     "name": "#%%\n"
    }
   }
  },
  {
   "cell_type": "code",
   "source": [
    "engine = EmbeddingSearch.from_texts(df[\"keywords\"], model.get_sentence_vector)"
   ],
   "metadata": {
    "scrolled": true,
    "trusted": true
   },
   "execution_count": 8,
   "outputs": [
    {
     "name": "stderr",
     "output_type": "stream",
     "text": [
      "2023-05-08 01:24:05,538 - DEBUG - creating db\n",
      "2023-05-08 01:24:05,565 - DEBUG - 0/46482\n",
      "2023-05-08 01:24:05,588 - DEBUG - 464/46482\n",
      "2023-05-08 01:24:05,610 - DEBUG - 928/46482\n",
      "2023-05-08 01:24:05,637 - DEBUG - 1392/46482\n",
      "2023-05-08 01:24:05,660 - DEBUG - 1856/46482\n",
      "2023-05-08 01:24:05,688 - DEBUG - 2320/46482\n",
      "2023-05-08 01:24:05,713 - DEBUG - 2784/46482\n",
      "2023-05-08 01:24:05,736 - DEBUG - 3248/46482\n",
      "2023-05-08 01:24:05,763 - DEBUG - 3712/46482\n",
      "2023-05-08 01:24:05,786 - DEBUG - 4176/46482\n",
      "2023-05-08 01:24:05,810 - DEBUG - 4640/46482\n",
      "2023-05-08 01:24:05,833 - DEBUG - 5104/46482\n",
      "2023-05-08 01:24:05,854 - DEBUG - 5568/46482\n",
      "2023-05-08 01:24:05,876 - DEBUG - 6032/46482\n",
      "2023-05-08 01:24:05,896 - DEBUG - 6496/46482\n",
      "2023-05-08 01:24:05,923 - DEBUG - 6960/46482\n",
      "2023-05-08 01:24:05,946 - DEBUG - 7424/46482\n",
      "2023-05-08 01:24:05,967 - DEBUG - 7888/46482\n",
      "2023-05-08 01:24:05,986 - DEBUG - 8352/46482\n",
      "2023-05-08 01:24:06,005 - DEBUG - 8816/46482\n",
      "2023-05-08 01:24:06,023 - DEBUG - 9280/46482\n",
      "2023-05-08 01:24:06,043 - DEBUG - 9744/46482\n",
      "2023-05-08 01:24:06,063 - DEBUG - 10208/46482\n",
      "2023-05-08 01:24:06,085 - DEBUG - 10672/46482\n",
      "2023-05-08 01:24:06,108 - DEBUG - 11136/46482\n",
      "2023-05-08 01:24:06,131 - DEBUG - 11600/46482\n",
      "2023-05-08 01:24:06,156 - DEBUG - 12064/46482\n",
      "2023-05-08 01:24:06,179 - DEBUG - 12528/46482\n",
      "2023-05-08 01:24:06,200 - DEBUG - 12992/46482\n",
      "2023-05-08 01:24:06,219 - DEBUG - 13456/46482\n",
      "2023-05-08 01:24:06,237 - DEBUG - 13920/46482\n",
      "2023-05-08 01:24:06,254 - DEBUG - 14384/46482\n",
      "2023-05-08 01:24:06,270 - DEBUG - 14848/46482\n",
      "2023-05-08 01:24:06,288 - DEBUG - 15312/46482\n",
      "2023-05-08 01:24:06,305 - DEBUG - 15776/46482\n",
      "2023-05-08 01:24:06,321 - DEBUG - 16240/46482\n",
      "2023-05-08 01:24:06,338 - DEBUG - 16704/46482\n",
      "2023-05-08 01:24:06,355 - DEBUG - 17168/46482\n",
      "2023-05-08 01:24:06,371 - DEBUG - 17632/46482\n",
      "2023-05-08 01:24:06,387 - DEBUG - 18096/46482\n",
      "2023-05-08 01:24:06,403 - DEBUG - 18560/46482\n",
      "2023-05-08 01:24:06,420 - DEBUG - 19024/46482\n",
      "2023-05-08 01:24:06,438 - DEBUG - 19488/46482\n",
      "2023-05-08 01:24:06,455 - DEBUG - 19952/46482\n",
      "2023-05-08 01:24:06,470 - DEBUG - 20416/46482\n",
      "2023-05-08 01:24:06,486 - DEBUG - 20880/46482\n",
      "2023-05-08 01:24:06,500 - DEBUG - 21344/46482\n",
      "2023-05-08 01:24:06,517 - DEBUG - 21808/46482\n",
      "2023-05-08 01:24:06,532 - DEBUG - 22272/46482\n",
      "2023-05-08 01:24:06,547 - DEBUG - 22736/46482\n",
      "2023-05-08 01:24:06,562 - DEBUG - 23200/46482\n",
      "2023-05-08 01:24:06,579 - DEBUG - 23664/46482\n",
      "2023-05-08 01:24:06,595 - DEBUG - 24128/46482\n",
      "2023-05-08 01:24:06,610 - DEBUG - 24592/46482\n",
      "2023-05-08 01:24:06,624 - DEBUG - 25056/46482\n",
      "2023-05-08 01:24:06,639 - DEBUG - 25520/46482\n",
      "2023-05-08 01:24:06,652 - DEBUG - 25984/46482\n",
      "2023-05-08 01:24:06,666 - DEBUG - 26448/46482\n",
      "2023-05-08 01:24:06,682 - DEBUG - 26912/46482\n",
      "2023-05-08 01:24:06,695 - DEBUG - 27376/46482\n",
      "2023-05-08 01:24:06,708 - DEBUG - 27840/46482\n",
      "2023-05-08 01:24:06,722 - DEBUG - 28304/46482\n",
      "2023-05-08 01:24:06,735 - DEBUG - 28768/46482\n",
      "2023-05-08 01:24:06,750 - DEBUG - 29232/46482\n",
      "2023-05-08 01:24:06,766 - DEBUG - 29696/46482\n",
      "2023-05-08 01:24:06,781 - DEBUG - 30160/46482\n",
      "2023-05-08 01:24:06,795 - DEBUG - 30624/46482\n",
      "2023-05-08 01:24:06,809 - DEBUG - 31088/46482\n",
      "2023-05-08 01:24:06,823 - DEBUG - 31552/46482\n",
      "2023-05-08 01:24:06,835 - DEBUG - 32016/46482\n",
      "2023-05-08 01:24:06,850 - DEBUG - 32480/46482\n",
      "2023-05-08 01:24:06,863 - DEBUG - 32944/46482\n",
      "2023-05-08 01:24:06,878 - DEBUG - 33408/46482\n",
      "2023-05-08 01:24:06,891 - DEBUG - 33872/46482\n",
      "2023-05-08 01:24:06,904 - DEBUG - 34336/46482\n",
      "2023-05-08 01:24:06,915 - DEBUG - 34800/46482\n",
      "2023-05-08 01:24:06,928 - DEBUG - 35264/46482\n",
      "2023-05-08 01:24:06,939 - DEBUG - 35728/46482\n",
      "2023-05-08 01:24:06,952 - DEBUG - 36192/46482\n",
      "2023-05-08 01:24:06,963 - DEBUG - 36656/46482\n",
      "2023-05-08 01:24:06,976 - DEBUG - 37120/46482\n",
      "2023-05-08 01:24:06,988 - DEBUG - 37584/46482\n",
      "2023-05-08 01:24:06,999 - DEBUG - 38048/46482\n",
      "2023-05-08 01:24:07,011 - DEBUG - 38512/46482\n",
      "2023-05-08 01:24:07,024 - DEBUG - 38976/46482\n",
      "2023-05-08 01:24:07,037 - DEBUG - 39440/46482\n",
      "2023-05-08 01:24:07,050 - DEBUG - 39904/46482\n",
      "2023-05-08 01:24:07,064 - DEBUG - 40368/46482\n",
      "2023-05-08 01:24:07,078 - DEBUG - 40832/46482\n",
      "2023-05-08 01:24:07,091 - DEBUG - 41296/46482\n",
      "2023-05-08 01:24:07,104 - DEBUG - 41760/46482\n",
      "2023-05-08 01:24:07,118 - DEBUG - 42224/46482\n",
      "2023-05-08 01:24:07,133 - DEBUG - 42688/46482\n",
      "2023-05-08 01:24:07,148 - DEBUG - 43152/46482\n",
      "2023-05-08 01:24:07,164 - DEBUG - 43616/46482\n",
      "2023-05-08 01:24:07,178 - DEBUG - 44080/46482\n",
      "2023-05-08 01:24:07,193 - DEBUG - 44544/46482\n",
      "2023-05-08 01:24:07,206 - DEBUG - 45008/46482\n",
      "2023-05-08 01:24:07,220 - DEBUG - 45472/46482\n",
      "2023-05-08 01:24:07,234 - DEBUG - 45936/46482\n",
      "2023-05-08 01:24:07,245 - DEBUG - 46400/46482\n"
     ]
    }
   ]
  },
  {
   "cell_type": "code",
   "source": [
    "result = engine.get_closest(\"programmer internet lifehack killer\", 1000)\n",
    "\n",
    "df.iloc[[x[\"id\"] for x in result.result]]"
   ],
   "metadata": {
    "trusted": true
   },
   "execution_count": 9,
   "outputs": [
    {
     "data": {
      "text/plain": "       adult                              belongs_to_collection    budget   \n9172   False                                                NaN         0  \\\n167    False                                                NaN  20000000   \n18330  False                                                NaN  90000000   \n43364  False                                                NaN         0   \n9328   False                                                NaN         0   \n...      ...                                                ...       ...   \n4454   False  {'id': 257571, 'name': 'C.H.U.D. Collection', ...         0   \n6234   False                                                NaN  35000000   \n3708   False  {'id': 166376, 'name': 'Hollow Man Collection'...  95000000   \n20458  False  {'id': 133352, 'name': 'Resident Evil: Biohaza...         0   \n1899   False  {'id': 89151, 'name': 'The Gremlins Collection...  50000000   \n\n                                                  genres   \n9172   [{'id': 28, 'name': 'Action'}, {'id': 53, 'nam...  \\\n167    [{'id': 28, 'name': 'Action'}, {'id': 80, 'nam...   \n18330  [{'id': 53, 'name': 'Thriller'}, {'id': 80, 'n...   \n43364                                                 []   \n9328   [{'id': 27, 'name': 'Horror'}, {'id': 53, 'nam...   \n...                                                  ...   \n4454   [{'id': 27, 'name': 'Horror'}, {'id': 35, 'nam...   \n6234   [{'id': 28, 'name': 'Action'}, {'id': 35, 'nam...   \n3708   [{'id': 28, 'name': 'Action'}, {'id': 878, 'na...   \n20458                  [{'id': 16, 'name': 'Animation'}]   \n1899   [{'id': 35, 'name': 'Comedy'}, {'id': 27, 'nam...   \n\n                                                homepage      id    imdb_id   \n9172                                                 NaN   10429  tt0159784  \\\n167                                                  NaN   10428  tt0113243   \n18330                           http://dragontattoo.com/   65754  tt1568346   \n43364                                                NaN  177979  tt0091742   \n9328                                                 NaN   27324  tt0286751   \n...                                                  ...     ...        ...   \n4454                                                 NaN   53150  tt0097001   \n6234                                                 NaN   10720  tt0309530   \n3708                                                 NaN    9383  tt0164052   \n20458  http://www.sonypictures.com/homevideo/resident...  133121  tt1753496   \n1899                                                 NaN     928  tt0099700   \n\n      original_language                   original_title   \n9172                 en                         Takedown  \\\n167                  en                          Hackers   \n18330                en  The Girl with the Dragon Tattoo   \n43364                de               Peng! Du bist tot!   \n9328                 ja                               回路   \n...                 ...                              ...   \n4454                 en        C.H.U.D. II: Bud the Chud   \n6234                 en                   Down with Love   \n3708                 en                       Hollow Man   \n20458                en             Biohazard: Damnation   \n1899                 en        Gremlins 2: The New Batch   \n\n                                                overview  ...      revenue   \n9172   Kevin Mitnick is quite possibly the best hacke...  ...          0.0  \\\n167    Along with his new friends, a teenager who was...  ...    7563728.0   \n18330  This English-language adaptation of the Swedis...  ...  232617430.0   \n43364                                                NaN  ...          0.0   \n9328   After one of their friends commits suicide, st...  ...          0.0   \n...                                                  ...  ...          ...   \n4454   A military experiment to create a race of supe...  ...          0.0   \n6234   In 1962 New York City, love blossoms between a...  ...   20298207.0   \n3708   Cocky researcher, Sebastian Caine is working o...  ...  190213455.0   \n20458  U.S. federal agent Leon S. Kennedy sneaks into...  ...          0.0   \n1899   Young sweethearts Billy and Kate move to the B...  ...   41482207.0   \n\n      runtime                                   spoken_languages    status   \n9172     92.0  [{'iso_639_1': 'en', 'name': 'English'}, {'iso...  Released  \\\n167     107.0  [{'iso_639_1': 'en', 'name': 'English'}, {'iso...  Released   \n18330   158.0           [{'iso_639_1': 'en', 'name': 'English'}]  Released   \n43364     0.0           [{'iso_639_1': 'de', 'name': 'Deutsch'}]  Released   \n9328    118.0               [{'iso_639_1': 'ja', 'name': '日本語'}]  Released   \n...       ...                                                ...       ...   \n4454     85.0           [{'iso_639_1': 'en', 'name': 'English'}]  Released   \n6234    101.0           [{'iso_639_1': 'en', 'name': 'English'}]  Released   \n3708    112.0           [{'iso_639_1': 'en', 'name': 'English'}]  Released   \n20458   100.0  [{'iso_639_1': 'ja', 'name': '日本語'}, {'iso_639...  Released   \n1899    106.0           [{'iso_639_1': 'en', 'name': 'English'}]  Released   \n\n                                                 tagline   \n9172                      The world has a right to know.  \\\n167      There is no right or wrong, only fun and boring   \n18330                  Evil shall with evil be expelled.   \n43364                                                NaN   \n9328                                                 NaN   \n...                                                  ...   \n4454                            This C.H.U.D.'s for you!   \n6234                The ultimate catch has met his match   \n3708   What would you do if you knew you couldn't be ...   \n20458                 The worst evil has been unleashed.   \n1899                               Here they grow again.   \n\n                                 title  video vote_average vote_count   \n9172                          Takedown  False          6.3       56.0  \\\n167                            Hackers  False          6.2      406.0   \n18330  The Girl with the Dragon Tattoo  False          7.2     2479.0   \n43364               Peng! Du bist tot!  False          0.0        0.0   \n9328                             Pulse  False          6.1       89.0   \n...                                ...    ...          ...        ...   \n4454         C.H.U.D. II: Bud the Chud  False          3.5       25.0   \n6234                    Down with Love  False          6.1      202.0   \n3708                        Hollow Man  False          5.6      645.0   \n20458         Resident Evil: Damnation  False          6.3      186.0   \n1899         Gremlins 2: The New Batch  False          6.3      664.0   \n\n                                                keywords  \n9172             hacker internet hacking computer hacker  \n167    female nudity hacker nudity computer virus vir...  \n18330  rape journalist based on novel journalism hack...  \n43364                             hacker computer murder  \n9328                   suicide computer internet student  \n...                                                  ...  \n4454   monster experiment mutant mutation halloween b...  \n6234   sex journalist empowerment womanizer playboy f...  \n3708   killing human experimentation scientist invisi...  \n20458  dystopia blood zombie based on video game adul...  \n1899   new york monster skyscraper mutant restaurant ...  \n\n[1000 rows x 25 columns]",
      "text/html": "<div>\n<style scoped>\n    .dataframe tbody tr th:only-of-type {\n        vertical-align: middle;\n    }\n\n    .dataframe tbody tr th {\n        vertical-align: top;\n    }\n\n    .dataframe thead th {\n        text-align: right;\n    }\n</style>\n<table border=\"1\" class=\"dataframe\">\n  <thead>\n    <tr style=\"text-align: right;\">\n      <th></th>\n      <th>adult</th>\n      <th>belongs_to_collection</th>\n      <th>budget</th>\n      <th>genres</th>\n      <th>homepage</th>\n      <th>id</th>\n      <th>imdb_id</th>\n      <th>original_language</th>\n      <th>original_title</th>\n      <th>overview</th>\n      <th>...</th>\n      <th>revenue</th>\n      <th>runtime</th>\n      <th>spoken_languages</th>\n      <th>status</th>\n      <th>tagline</th>\n      <th>title</th>\n      <th>video</th>\n      <th>vote_average</th>\n      <th>vote_count</th>\n      <th>keywords</th>\n    </tr>\n  </thead>\n  <tbody>\n    <tr>\n      <th>9172</th>\n      <td>False</td>\n      <td>NaN</td>\n      <td>0</td>\n      <td>[{'id': 28, 'name': 'Action'}, {'id': 53, 'nam...</td>\n      <td>NaN</td>\n      <td>10429</td>\n      <td>tt0159784</td>\n      <td>en</td>\n      <td>Takedown</td>\n      <td>Kevin Mitnick is quite possibly the best hacke...</td>\n      <td>...</td>\n      <td>0.0</td>\n      <td>92.0</td>\n      <td>[{'iso_639_1': 'en', 'name': 'English'}, {'iso...</td>\n      <td>Released</td>\n      <td>The world has a right to know.</td>\n      <td>Takedown</td>\n      <td>False</td>\n      <td>6.3</td>\n      <td>56.0</td>\n      <td>hacker internet hacking computer hacker</td>\n    </tr>\n    <tr>\n      <th>167</th>\n      <td>False</td>\n      <td>NaN</td>\n      <td>20000000</td>\n      <td>[{'id': 28, 'name': 'Action'}, {'id': 80, 'nam...</td>\n      <td>NaN</td>\n      <td>10428</td>\n      <td>tt0113243</td>\n      <td>en</td>\n      <td>Hackers</td>\n      <td>Along with his new friends, a teenager who was...</td>\n      <td>...</td>\n      <td>7563728.0</td>\n      <td>107.0</td>\n      <td>[{'iso_639_1': 'en', 'name': 'English'}, {'iso...</td>\n      <td>Released</td>\n      <td>There is no right or wrong, only fun and boring</td>\n      <td>Hackers</td>\n      <td>False</td>\n      <td>6.2</td>\n      <td>406.0</td>\n      <td>female nudity hacker nudity computer virus vir...</td>\n    </tr>\n    <tr>\n      <th>18330</th>\n      <td>False</td>\n      <td>NaN</td>\n      <td>90000000</td>\n      <td>[{'id': 53, 'name': 'Thriller'}, {'id': 80, 'n...</td>\n      <td>http://dragontattoo.com/</td>\n      <td>65754</td>\n      <td>tt1568346</td>\n      <td>en</td>\n      <td>The Girl with the Dragon Tattoo</td>\n      <td>This English-language adaptation of the Swedis...</td>\n      <td>...</td>\n      <td>232617430.0</td>\n      <td>158.0</td>\n      <td>[{'iso_639_1': 'en', 'name': 'English'}]</td>\n      <td>Released</td>\n      <td>Evil shall with evil be expelled.</td>\n      <td>The Girl with the Dragon Tattoo</td>\n      <td>False</td>\n      <td>7.2</td>\n      <td>2479.0</td>\n      <td>rape journalist based on novel journalism hack...</td>\n    </tr>\n    <tr>\n      <th>43364</th>\n      <td>False</td>\n      <td>NaN</td>\n      <td>0</td>\n      <td>[]</td>\n      <td>NaN</td>\n      <td>177979</td>\n      <td>tt0091742</td>\n      <td>de</td>\n      <td>Peng! Du bist tot!</td>\n      <td>NaN</td>\n      <td>...</td>\n      <td>0.0</td>\n      <td>0.0</td>\n      <td>[{'iso_639_1': 'de', 'name': 'Deutsch'}]</td>\n      <td>Released</td>\n      <td>NaN</td>\n      <td>Peng! Du bist tot!</td>\n      <td>False</td>\n      <td>0.0</td>\n      <td>0.0</td>\n      <td>hacker computer murder</td>\n    </tr>\n    <tr>\n      <th>9328</th>\n      <td>False</td>\n      <td>NaN</td>\n      <td>0</td>\n      <td>[{'id': 27, 'name': 'Horror'}, {'id': 53, 'nam...</td>\n      <td>NaN</td>\n      <td>27324</td>\n      <td>tt0286751</td>\n      <td>ja</td>\n      <td>回路</td>\n      <td>After one of their friends commits suicide, st...</td>\n      <td>...</td>\n      <td>0.0</td>\n      <td>118.0</td>\n      <td>[{'iso_639_1': 'ja', 'name': '日本語'}]</td>\n      <td>Released</td>\n      <td>NaN</td>\n      <td>Pulse</td>\n      <td>False</td>\n      <td>6.1</td>\n      <td>89.0</td>\n      <td>suicide computer internet student</td>\n    </tr>\n    <tr>\n      <th>...</th>\n      <td>...</td>\n      <td>...</td>\n      <td>...</td>\n      <td>...</td>\n      <td>...</td>\n      <td>...</td>\n      <td>...</td>\n      <td>...</td>\n      <td>...</td>\n      <td>...</td>\n      <td>...</td>\n      <td>...</td>\n      <td>...</td>\n      <td>...</td>\n      <td>...</td>\n      <td>...</td>\n      <td>...</td>\n      <td>...</td>\n      <td>...</td>\n      <td>...</td>\n      <td>...</td>\n    </tr>\n    <tr>\n      <th>4454</th>\n      <td>False</td>\n      <td>{'id': 257571, 'name': 'C.H.U.D. Collection', ...</td>\n      <td>0</td>\n      <td>[{'id': 27, 'name': 'Horror'}, {'id': 35, 'nam...</td>\n      <td>NaN</td>\n      <td>53150</td>\n      <td>tt0097001</td>\n      <td>en</td>\n      <td>C.H.U.D. II: Bud the Chud</td>\n      <td>A military experiment to create a race of supe...</td>\n      <td>...</td>\n      <td>0.0</td>\n      <td>85.0</td>\n      <td>[{'iso_639_1': 'en', 'name': 'English'}]</td>\n      <td>Released</td>\n      <td>This C.H.U.D.'s for you!</td>\n      <td>C.H.U.D. II: Bud the Chud</td>\n      <td>False</td>\n      <td>3.5</td>\n      <td>25.0</td>\n      <td>monster experiment mutant mutation halloween b...</td>\n    </tr>\n    <tr>\n      <th>6234</th>\n      <td>False</td>\n      <td>NaN</td>\n      <td>35000000</td>\n      <td>[{'id': 28, 'name': 'Action'}, {'id': 35, 'nam...</td>\n      <td>NaN</td>\n      <td>10720</td>\n      <td>tt0309530</td>\n      <td>en</td>\n      <td>Down with Love</td>\n      <td>In 1962 New York City, love blossoms between a...</td>\n      <td>...</td>\n      <td>20298207.0</td>\n      <td>101.0</td>\n      <td>[{'iso_639_1': 'en', 'name': 'English'}]</td>\n      <td>Released</td>\n      <td>The ultimate catch has met his match</td>\n      <td>Down with Love</td>\n      <td>False</td>\n      <td>6.1</td>\n      <td>202.0</td>\n      <td>sex journalist empowerment womanizer playboy f...</td>\n    </tr>\n    <tr>\n      <th>3708</th>\n      <td>False</td>\n      <td>{'id': 166376, 'name': 'Hollow Man Collection'...</td>\n      <td>95000000</td>\n      <td>[{'id': 28, 'name': 'Action'}, {'id': 878, 'na...</td>\n      <td>NaN</td>\n      <td>9383</td>\n      <td>tt0164052</td>\n      <td>en</td>\n      <td>Hollow Man</td>\n      <td>Cocky researcher, Sebastian Caine is working o...</td>\n      <td>...</td>\n      <td>190213455.0</td>\n      <td>112.0</td>\n      <td>[{'iso_639_1': 'en', 'name': 'English'}]</td>\n      <td>Released</td>\n      <td>What would you do if you knew you couldn't be ...</td>\n      <td>Hollow Man</td>\n      <td>False</td>\n      <td>5.6</td>\n      <td>645.0</td>\n      <td>killing human experimentation scientist invisi...</td>\n    </tr>\n    <tr>\n      <th>20458</th>\n      <td>False</td>\n      <td>{'id': 133352, 'name': 'Resident Evil: Biohaza...</td>\n      <td>0</td>\n      <td>[{'id': 16, 'name': 'Animation'}]</td>\n      <td>http://www.sonypictures.com/homevideo/resident...</td>\n      <td>133121</td>\n      <td>tt1753496</td>\n      <td>en</td>\n      <td>Biohazard: Damnation</td>\n      <td>U.S. federal agent Leon S. Kennedy sneaks into...</td>\n      <td>...</td>\n      <td>0.0</td>\n      <td>100.0</td>\n      <td>[{'iso_639_1': 'ja', 'name': '日本語'}, {'iso_639...</td>\n      <td>Released</td>\n      <td>The worst evil has been unleashed.</td>\n      <td>Resident Evil: Damnation</td>\n      <td>False</td>\n      <td>6.3</td>\n      <td>186.0</td>\n      <td>dystopia blood zombie based on video game adul...</td>\n    </tr>\n    <tr>\n      <th>1899</th>\n      <td>False</td>\n      <td>{'id': 89151, 'name': 'The Gremlins Collection...</td>\n      <td>50000000</td>\n      <td>[{'id': 35, 'name': 'Comedy'}, {'id': 27, 'nam...</td>\n      <td>NaN</td>\n      <td>928</td>\n      <td>tt0099700</td>\n      <td>en</td>\n      <td>Gremlins 2: The New Batch</td>\n      <td>Young sweethearts Billy and Kate move to the B...</td>\n      <td>...</td>\n      <td>41482207.0</td>\n      <td>106.0</td>\n      <td>[{'iso_639_1': 'en', 'name': 'English'}]</td>\n      <td>Released</td>\n      <td>Here they grow again.</td>\n      <td>Gremlins 2: The New Batch</td>\n      <td>False</td>\n      <td>6.3</td>\n      <td>664.0</td>\n      <td>new york monster skyscraper mutant restaurant ...</td>\n    </tr>\n  </tbody>\n</table>\n<p>1000 rows × 25 columns</p>\n</div>"
     },
     "execution_count": 9,
     "metadata": {},
     "output_type": "execute_result"
    }
   ]
  },
  {
   "cell_type": "code",
   "source": [],
   "metadata": {},
   "execution_count": 9,
   "outputs": []
  },
  {
   "cell_type": "code",
   "execution_count": 9,
   "outputs": [],
   "source": [],
   "metadata": {
    "collapsed": false,
    "pycharm": {
     "name": "#%%\n"
    }
   }
  }
 ]
}