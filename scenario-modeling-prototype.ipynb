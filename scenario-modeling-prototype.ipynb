{
 "metadata": {
  "kernelspec": {
   "language": "python",
   "display_name": "Python 3",
   "name": "python3"
  },
  "language_info": {
   "name": "python",
   "version": "3.10.10",
   "mimetype": "text/x-python",
   "codemirror_mode": {
    "name": "ipython",
    "version": 3
   },
   "pygments_lexer": "ipython3",
   "nbconvert_exporter": "python",
   "file_extension": ".py"
  }
 },
 "nbformat_minor": 4,
 "nbformat": 4,
 "cells": [
  {
   "cell_type": "code",
   "source": [
    "import logging\n",
    "from collections import namedtuple\n",
    "from pathlib import Path\n",
    "\n",
    "import yaml\n",
    "import numpy as np\n",
    "import pandas as pd\n",
    "\n",
    "from sklearn.metrics import pairwise_distances\n",
    "\n",
    "logging.basicConfig(level=logging.DEBUG, format=\"%(asctime)s - %(levelname)s - %(message)s\", force=True)\n",
    "\n",
    "PATH = Path(\"data\")"
   ],
   "metadata": {
    "trusted": true
   },
   "execution_count": 1,
   "outputs": []
  },
  {
   "cell_type": "markdown",
   "source": [
    "## Load Data"
   ],
   "metadata": {}
  },
  {
   "cell_type": "code",
   "source": [
    "df_keywords = pd.read_csv(PATH / \"keywords.csv\")\n",
    "df_keywords[\"keywords\"] = df_keywords[\"keywords\"].apply(yaml.safe_load)\n",
    "\n",
    "df_meta = pd.read_csv(PATH / \"movies_metadata.csv\")\n",
    "df_meta = df_meta[df_meta[\"id\"].str.isnumeric()]\n",
    "df_meta[\"id\"] = df_meta[\"id\"].astype(\"int\")"
   ],
   "metadata": {
    "trusted": true
   },
   "execution_count": 2,
   "outputs": [
    {
     "name": "stderr",
     "output_type": "stream",
     "text": [
      "C:\\Users\\ALEX\\AppData\\Local\\Temp\\ipykernel_2284\\51218891.py:4: DtypeWarning: Columns (10) have mixed types. Specify dtype option on import or set low_memory=False.\n",
      "  df_meta = pd.read_csv(PATH / \"movies_metadata.csv\")\n"
     ]
    }
   ]
  },
  {
   "cell_type": "code",
   "source": [
    "df = df_meta.merge(df_keywords, on=\"id\", how=\"left\")\n",
    "df = df.dropna(subset=\"keywords\").copy()\n",
    "df[\"keywords\"] = df[\"keywords\"].apply(lambda x: \" \".join(x[\"name\"] for x in x))"
   ],
   "metadata": {
    "trusted": true
   },
   "execution_count": 3,
   "outputs": []
  },
  {
   "cell_type": "code",
   "source": [
    "x = df.iloc[4]\n",
    "x[\"original_title\"], x[\"overview\"], x[\"keywords\"]"
   ],
   "metadata": {
    "trusted": true
   },
   "execution_count": 4,
   "outputs": [
    {
     "data": {
      "text/plain": "('Father of the Bride Part II',\n \"Just when George Banks has recovered from his daughter's wedding, he receives the news that she's pregnant ... and that George's wife, Nina, is expecting too. He was planning on selling their home, but that's a plan that -- like George -- will have to change with the arrival of both a grandchild and a kid of his own.\",\n 'baby midlife crisis confidence aging daughter mother daughter relationship pregnancy contraception gynecologist')"
     },
     "execution_count": 4,
     "metadata": {},
     "output_type": "execute_result"
    }
   ]
  },
  {
   "cell_type": "markdown",
   "source": [
    "## Prototyping"
   ],
   "metadata": {}
  },
  {
   "cell_type": "code",
   "source": [
    "SearchResult = namedtuple(\"SearchResult\", \"result,embedding\")\n",
    "\n",
    "\n",
    "class EmbeddingSearch:\n",
    "    def __init__(self, vectors: np.ndarray, embedder: callable):\n",
    "        self._vectors = vectors\n",
    "        self.embedder = embedder\n",
    "\n",
    "    @classmethod\n",
    "    def from_texts(cls, inputs: list[str], embedder: callable):\n",
    "        _vectors = cls._create_db(inputs, embedder)\n",
    "        return cls(_vectors, embedder)\n",
    "\n",
    "    @staticmethod\n",
    "    def _create_db(inputs, embedder):\n",
    "        logging.debug(\"creating db\")\n",
    "        result = []\n",
    "        total = len(inputs)\n",
    "        step = total // 100\n",
    "        for i, text in enumerate(inputs):\n",
    "            vec = embedder(text)\n",
    "            result.append(vec)\n",
    "            if i % step == 0:\n",
    "                logging.debug(\"%s/%s\", i, total)\n",
    "        return result\n",
    "\n",
    "    def from_pickle(self, path):\n",
    "        pass\n",
    "\n",
    "    def get_closest(self, query: str, n: int = 1000) -> list[dict]:\n",
    "        query_vec = self.embedder(query)\n",
    "\n",
    "        dist = pairwise_distances(query_vec[None, ...], self._vectors, \"cosine\")\n",
    "        dist = dist.ravel()\n",
    "        idx = np.argsort(dist)[:n]\n",
    "        result = [{\"id\": _id, \"distance\": dist} for _id, dist in zip(idx, dist[idx])]\n",
    "\n",
    "        return SearchResult(result, query_vec)\n",
    "\n",
    "    def get_rerank(self, labeling: list[dict]):\n",
    "        pass"
   ],
   "metadata": {
    "trusted": true
   },
   "execution_count": 5,
   "outputs": []
  },
  {
   "cell_type": "code",
   "source": [
    "import fasttext\n",
    "\n",
    "# Load pre-trained model\n",
    "model_path = \"fasttext/cc.en.300.bin\"\n",
    "model = fasttext.load_model(model_path)"
   ],
   "metadata": {
    "trusted": true
   },
   "execution_count": 6,
   "outputs": [
    {
     "ename": "AttributeError",
     "evalue": "module 'fasttext' has no attribute 'load_model'",
     "output_type": "error",
     "traceback": [
      "\u001B[1;31m---------------------------------------------------------------------------\u001B[0m",
      "\u001B[1;31mAttributeError\u001B[0m                            Traceback (most recent call last)",
      "Cell \u001B[1;32mIn[6], line 5\u001B[0m\n\u001B[0;32m      3\u001B[0m \u001B[38;5;66;03m# Load pre-trained model\u001B[39;00m\n\u001B[0;32m      4\u001B[0m model_path \u001B[38;5;241m=\u001B[39m \u001B[38;5;124m\"\u001B[39m\u001B[38;5;124mfasttext/cc.en.300.bin\u001B[39m\u001B[38;5;124m\"\u001B[39m\n\u001B[1;32m----> 5\u001B[0m model \u001B[38;5;241m=\u001B[39m \u001B[43mfasttext\u001B[49m\u001B[38;5;241;43m.\u001B[39;49m\u001B[43mload_model\u001B[49m(model_path)\n",
      "\u001B[1;31mAttributeError\u001B[0m: module 'fasttext' has no attribute 'load_model'"
     ]
    }
   ]
  },
  {
   "cell_type": "code",
   "source": [
    "engine = EmbeddingSearch.from_texts(df[\"keywords\"], model.get_sentence_vector)"
   ],
   "metadata": {
    "scrolled": true,
    "trusted": true
   },
   "execution_count": null,
   "outputs": []
  },
  {
   "cell_type": "code",
   "source": [
    "result = engine.get_closest(\"programmer internet lifehack killer\", 1000)\n",
    "\n",
    "df.iloc[[x[\"id\"] for x in result.result]]"
   ],
   "metadata": {
    "trusted": true
   },
   "execution_count": null,
   "outputs": []
  },
  {
   "cell_type": "code",
   "source": [],
   "metadata": {},
   "execution_count": null,
   "outputs": []
  },
  {
   "cell_type": "code",
   "execution_count": null,
   "outputs": [],
   "source": [],
   "metadata": {
    "collapsed": false,
    "pycharm": {
     "name": "#%%\n"
    }
   }
  }
 ]
}